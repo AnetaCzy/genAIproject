{
 "cells": [
  {
   "cell_type": "code",
   "execution_count": null,
   "id": "86a143f2",
   "metadata": {},
   "outputs": [
    {
     "name": "stdout",
     "output_type": "stream",
     "text": [
      "1.0.3\n"
     ]
    }
   ],
   "source": [
    "import os\n",
    "from dotenv import load_dotenv\n",
    "import pinecone\n",
    "from langchain_openai import AzureOpenAIEmbeddings, AzureChatOpenAI\n",
    "import langchain\n",
    "import arxiv\n",
    "import requests \n",
    "from PyPDF2 import PdfReader\n",
    "from io import BytesIO\n",
    "\n",
    "\n",
    "print(langchain.__version__)"
   ]
  },
  {
   "cell_type": "code",
   "execution_count": 40,
   "id": "b365816f",
   "metadata": {},
   "outputs": [],
   "source": [
    "SYSTEM_PROMPT = \"\"\"\n",
    "You are a research assistant helping the user understand scientific papers retrieved from arXiv.\n",
    "Use the context retrieved from Pinecone to provide accurate, concise answers with citations.\n",
    "If unsure, say so.\n",
    "\"\"\"\n"
   ]
  },
  {
   "cell_type": "code",
   "execution_count": 38,
   "id": "c8e1de25",
   "metadata": {},
   "outputs": [],
   "source": [
    "# !capture --no-stderr\n",
    "# !pip install --quiet -U langchain_openai langchain_core langchain langchain-community langchain_pinecone beautifulsoup4 requests pinecone tabulate\n"
   ]
  },
  {
   "cell_type": "code",
   "execution_count": 41,
   "id": "891c8800",
   "metadata": {},
   "outputs": [],
   "source": [
    "load_dotenv()\n",
    "\n",
    "AZURE_OPENAI_API_KEY = os.getenv(\"AZURE_OPENAI_API_KEY\")\n",
    "AZURE_OPENAI_ENDPOINT = os.getenv(\"AZURE_OPENAI_ENDPOINT\")\n",
    "PINECONE_API_KEY = os.getenv(\"PINECONE_API_KEY\")\n",
    "PINECONE_ENV = os.getenv(\"PINECONE_ENV\")\n",
    "PINECONE_INDEX_NAME = os.getenv(\"PINECONE_INDEX_NAME\", \"arxiv\")\n"
   ]
  },
  {
   "cell_type": "code",
   "execution_count": 42,
   "id": "bd5995f4",
   "metadata": {},
   "outputs": [
    {
     "name": "stdout",
     "output_type": "stream",
     "text": [
      "✅ Connected to Pinecone index: arxiv <pinecone.data.index.Index object at 0x00000143048BEAD0>\n"
     ]
    }
   ],
   "source": [
    "# pip install pinecone\n",
    "from pinecone import Pinecone\n",
    "\n",
    "pc = Pinecone(api_key=PINECONE_API_KEY)\n",
    "index = pc.Index(\"arxiv\")\n",
    "print(\"✅ Connected to Pinecone index:\", PINECONE_INDEX_NAME, index)"
   ]
  },
  {
   "cell_type": "code",
   "execution_count": 43,
   "id": "ffe9c354",
   "metadata": {},
   "outputs": [],
   "source": [
    "from langchain_openai import AzureOpenAIEmbeddings\n",
    "\n",
    "# Embeddings\n",
    "embeddings_model = AzureOpenAIEmbeddings(\n",
    "    azure_deployment=\"text-embedding-3-small\",\n",
    "    dimensions=1536\n",
    ")"
   ]
  },
  {
   "cell_type": "code",
   "execution_count": null,
   "id": "d1075d3e",
   "metadata": {},
   "outputs": [],
   "source": []
  },
  {
   "cell_type": "code",
   "execution_count": null,
   "id": "b8c86cea",
   "metadata": {},
   "outputs": [],
   "source": [
    "# pip install arxiv\n",
    "import arxiv\n",
    "\n",
    "def fetch_arxiv_papers(query, max_results=5):\n",
    "    search = arxiv.Search(\n",
    "        query=query,\n",
    "        max_results=max_results,\n",
    "        sort_by=arxiv.SortCriterion.Relevance\n",
    "    )\n",
    "    papers = []\n",
    "    for result in search.results():\n",
    "        pdf_url = result.pdf_url \n",
    "        response = requests.get(pdf_url)\n",
    "        pdf_file = BytesIO(response.content)\n",
    "        reader = PdfReader(pdf_file)\n",
    "        full_text = \"\"\n",
    "        for page in reader.pages:\n",
    "            full_text += page.extract_text() + \"\\n\"\n",
    "\n",
    "        papers.append({\n",
    "            \"title\": result.title,\n",
    "            \"abstract\": result.summary,\n",
    "            \"url\": result.entry_id,\n",
    "            \"pdf_text\": full_text\n",
    "        })\n",
    "    return papers"
   ]
  },
  {
   "cell_type": "code",
   "execution_count": null,
   "id": "0ded94f8",
   "metadata": {},
   "outputs": [],
   "source": [
    "def index_papers(papers):\n",
    "    for paper in papers:\n",
    "        vector = embeddings_model.embed_query(paper['pdf_text']) \n",
    "        index.upsert([(paper['url'], vector, {\"title\": paper['title']})])\n"
   ]
  },
  {
   "cell_type": "code",
   "execution_count": 53,
   "id": "37453bfd",
   "metadata": {},
   "outputs": [
    {
     "name": "stderr",
     "output_type": "stream",
     "text": [
      "C:\\Users\\Aneta\\AppData\\Local\\Temp\\ipykernel_19512\\1559592083.py:11: DeprecationWarning: The 'Search.results' method is deprecated, use 'Client.results' instead\n",
      "  for result in search.results():\n"
     ]
    },
    {
     "name": "stdout",
     "output_type": "stream",
     "text": [
      "Indexed 5 papers on 'blue flowers' in Pinecone!\n"
     ]
    }
   ],
   "source": [
    "topic = input(\"Enter research topic: \")\n",
    "papers = fetch_arxiv_papers(topic)\n",
    "index_papers(papers)\n",
    "print(f\"Indexed {len(papers)} papers on '{topic}' in Pinecone!\")\n"
   ]
  },
  {
   "cell_type": "code",
   "execution_count": null,
   "id": "309b658f",
   "metadata": {},
   "outputs": [],
   "source": []
  }
 ],
 "metadata": {
  "kernelspec": {
   "display_name": ".venv",
   "language": "python",
   "name": "python3"
  },
  "language_info": {
   "codemirror_mode": {
    "name": "ipython",
    "version": 3
   },
   "file_extension": ".py",
   "mimetype": "text/x-python",
   "name": "python",
   "nbconvert_exporter": "python",
   "pygments_lexer": "ipython3",
   "version": "3.11.9"
  }
 },
 "nbformat": 4,
 "nbformat_minor": 5
}
