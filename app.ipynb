{
 "cells": [
  {
   "cell_type": "code",
   "execution_count": 1,
   "id": "86a143f2",
   "metadata": {},
   "outputs": [
    {
     "name": "stderr",
     "output_type": "stream",
     "text": [
      "c:\\Users\\Aneta\\OneDrive\\Dokumenty\\gsk_genAI_project\\genAIproject\\gsk_genAI_project\\.venv\\Lib\\site-packages\\pinecone\\data\\index.py:1: TqdmWarning: IProgress not found. Please update jupyter and ipywidgets. See https://ipywidgets.readthedocs.io/en/stable/user_install.html\n",
      "  from tqdm.autonotebook import tqdm\n"
     ]
    }
   ],
   "source": [
    "import os\n",
    "from dotenv import load_dotenv\n",
    "import pinecone\n",
    "from langchain_openai import AzureOpenAIEmbeddings, AzureChatOpenAI"
   ]
  },
  {
   "cell_type": "code",
   "execution_count": 2,
   "id": "9a949e5a",
   "metadata": {},
   "outputs": [
    {
     "name": "stdout",
     "output_type": "stream",
     "text": [
      "1.0.3\n"
     ]
    }
   ],
   "source": [
    "import langchain\n",
    "print(langchain.__version__)\n"
   ]
  },
  {
   "cell_type": "code",
   "execution_count": 3,
   "id": "b365816f",
   "metadata": {},
   "outputs": [],
   "source": [
    "SYSTEM_PROMPT = \"\"\"\n",
    "You are a research assistant helping the user understand scientific papers retrieved from arXiv.\n",
    "Use the context retrieved from Pinecone to provide accurate, concise answers with citations.\n",
    "If unsure, say so.\n",
    "\"\"\"\n"
   ]
  },
  {
   "cell_type": "code",
   "execution_count": 10,
   "id": "c8e1de25",
   "metadata": {},
   "outputs": [],
   "source": [
    "# !capture --no-stderr\n",
    "!pip install --quiet -U langchain_openai langchain_core langchain langchain-community langchain_pinecone beautifulsoup4 requests pinecone tabulate\n"
   ]
  },
  {
   "cell_type": "code",
   "execution_count": null,
   "id": "891c8800",
   "metadata": {},
   "outputs": [],
   "source": [
    "load_dotenv()\n",
    "\n",
    "AZURE_OPENAI_API_KEY = os.getenv(\"AZURE_OPENAI_API_KEY\")\n",
    "AZURE_OPENAI_ENDPOINT = os.getenv(\"AZURE_OPENAI_ENDPOINT\")\n",
    "PINECONE_API_KEY = os.getenv(\"PINECONE_API_KEY\")\n",
    "PINECONE_ENV = os.getenv(\"PINECONE_ENV\")\n",
    "PINECONE_INDEX_NAME = os.getenv(\"PINECONE_INDEX_NAME\", \"arxiv\")\n",
    "\n",
    "\n",
    "\n",
    "# # --- Initialize Pinecone + models ---\n",
    "# pinecone.init(api_key=PINECONE_API_KEY, environment=PINECONE_ENV)\n",
    "# embeddings = AzureOpenAIEmbeddings(\n",
    "#     deployment=\"text-embedding-3-small\",\n",
    "#     openai_api_key=AZURE_OPENAI_API_KEY,\n",
    "#     openai_api_base=AZURE_OPENAI_ENDPOINT\n",
    "# )\n",
    "\n",
    "# if PINECONE_INDEX_NAME not in pinecone.list_indexes():\n",
    "#     dim = len(embeddings.embed_query(\"test\"))\n",
    "#     pinecone.create_index(PINECONE_INDEX_NAME, dimension=dim)\n",
    "\n",
    "# index = pinecone.Index(PINECONE_INDEX_NAME)\n",
    "# store = Pinecone(index, embedding_function=embeddings.embed_query)\n",
    "\n",
    "# print(\"✅ Connected to Pinecone index:\", PINECONE_INDEX_NAME)"
   ]
  },
  {
   "cell_type": "code",
   "execution_count": 27,
   "id": "bd5995f4",
   "metadata": {},
   "outputs": [],
   "source": [
    "# pip install pinecone\n",
    "from pinecone import Pinecone\n",
    "\n",
    "pc = Pinecone(api_key=PINECONE_API_KEY)\n",
    "index = pc.Index(\"arxiv\")"
   ]
  },
  {
   "cell_type": "code",
   "execution_count": null,
   "id": "ffe9c354",
   "metadata": {},
   "outputs": [],
   "source": [
    "embeddings = AzureOpenAIEmbeddings(\n",
    "    deployment=\"text-embedding-3-small\",\n",
    "    model=\"text-embedding-3-small\",\n",
    "    openai_api_key=AZURE_OPENAI_API_KEY,\n",
    "    openai_api_base=AZURE_OPENAI_ENDPOINT,\n",
    "    openai_api_version=\"2025-01-01-preview\"\n",
    ")\n"
   ]
  }
 ],
 "metadata": {
  "kernelspec": {
   "display_name": ".venv",
   "language": "python",
   "name": "python3"
  },
  "language_info": {
   "codemirror_mode": {
    "name": "ipython",
    "version": 3
   },
   "file_extension": ".py",
   "mimetype": "text/x-python",
   "name": "python",
   "nbconvert_exporter": "python",
   "pygments_lexer": "ipython3",
   "version": "3.11.9"
  }
 },
 "nbformat": 4,
 "nbformat_minor": 5
}
